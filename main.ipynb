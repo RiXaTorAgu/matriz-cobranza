{
 "cells": [
  {
   "cell_type": "code",
   "execution_count": 1,
   "metadata": {},
   "outputs": [
    {
     "name": "stdout",
     "output_type": "stream",
     "text": [
      "       id                                  uuid payment_type  \\\n",
      "0  544086  42ff64ef-0558-4755-83a4-d06b14adf02c      monthly   \n",
      "1  654817  26f27dff-5024-4d7f-9671-a5767c3fffe1      monthly   \n",
      "2  606265  6f791b12-fc93-41d0-9293-0fd576fa87b1      monthly   \n",
      "3  616999  eae0b303-0b0d-4de0-b3bb-e7db328fd498      monthly   \n",
      "4  844495  513f49a9-f6ee-44ae-b641-811bd1c8bcda      monthly   \n",
      "\n",
      "   annual_interest_rate opening_date  term  customer_id         inserted_at  \\\n",
      "0                 50.04   2023-09-06     8       155008 2023-09-04 19:01:50   \n",
      "1                 27.00   2021-06-30    70       183442 2024-05-01 01:26:55   \n",
      "2                 42.26   2019-12-27    14         4239 2024-04-25 21:09:44   \n",
      "3                 50.18   2022-06-08    12       143359 2024-04-26 00:44:36   \n",
      "4                 72.00   2025-02-07     6       210010 2025-02-11 19:48:22   \n",
      "\n",
      "           updated_at paydays  ... closing_date closing_reason    batch  \\\n",
      "0 2025-02-24 03:57:58    [12]  ...   2024-03-14        partial  batch_1   \n",
      "1 2025-01-23 02:46:20    [25]  ...   2024-04-16    restructure  batch_4   \n",
      "2 2024-08-02 20:28:14     [1]  ...         None           None  batch_1   \n",
      "3 2024-08-02 20:29:09     [1]  ...         None           None  batch_1   \n",
      "4 2025-02-14 01:21:31    [15]  ...         None           None  batch_1   \n",
      "\n",
      "  product_id  moratorium_loan_rate  \\\n",
      "0          8                   NaN   \n",
      "1         18                  25.0   \n",
      "2          8                   NaN   \n",
      "3          8                   NaN   \n",
      "4         14                   0.0   \n",
      "\n",
      "                                                data      amount  \\\n",
      "0  {'sale_date': None, 'life_insurance': 0.0, 're...    28192.00   \n",
      "1  {'sale_date': '', 'life_insurance': '0', 'repu...  5977453.00   \n",
      "2  {'sale_date': None, 'life_insurance': 0.0, 're...    43184.00   \n",
      "3  {'sale_date': None, 'life_insurance': 0.0, 're...    11570.00   \n",
      "4  {'sale_date': None, 'life_insurance': 0.0, 're...     2866.93   \n",
      "\n",
      "   payment_amount direct_payment operational_opening_date  \n",
      "0         4229.00          False               2023-08-23  \n",
      "1       159837.00          False               2021-06-30  \n",
      "2         4165.00          False               2019-12-27  \n",
      "3         1296.00          False               2022-06-08  \n",
      "4          583.03          False               2025-02-07  \n",
      "\n",
      "[5 rows x 30 columns]\n"
     ]
    }
   ],
   "source": [
    "import pandas as pd\n",
    "from sqlalchemy import create_engine\n",
    "\n",
    "# Datos de conexión\n",
    "DATABASE_TYPE = 'postgresql'\n",
    "USER = 'ricardo.torres'\n",
    "PASSWORD = r'UW`bv&&rg>2!kwo\\eOaD' # Usamos raw string para evitar errores de escape\n",
    "HOST = '34.123.217.240'\n",
    "PORT = '5432'\n",
    "DATABASE = 'credito'\n",
    "\n",
    "# Crear la conexión con SQLAlchemy\n",
    "engine = create_engine(f\"{DATABASE_TYPE}://{USER}:{PASSWORD}@{HOST}:{PORT}/{DATABASE}\")\n",
    "\n",
    "# Escribir la consulta\n",
    "query = \"SELECT * FROM CREDITS LIMIT 5;\"\n",
    "\n",
    "# Leer la tabla en un DataFrame\n",
    "try:\n",
    "    df = pd.read_sql_query(query, con=engine)\n",
    "    print(df)  # Mostrar los datos\n",
    "except Exception as e:\n",
    "    print(f\"Error al ejecutar la consulta: {e}\")\n"
   ]
  }
 ],
 "metadata": {
  "kernelspec": {
   "display_name": "myenv",
   "language": "python",
   "name": "python3"
  },
  "language_info": {
   "codemirror_mode": {
    "name": "ipython",
    "version": 3
   },
   "file_extension": ".py",
   "mimetype": "text/x-python",
   "name": "python",
   "nbconvert_exporter": "python",
   "pygments_lexer": "ipython3",
   "version": "3.12.3"
  }
 },
 "nbformat": 4,
 "nbformat_minor": 2
}
